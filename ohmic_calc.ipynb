{
 "metadata": {
  "name": "ohmic_calc"
 },
 "nbformat": 3,
 "nbformat_minor": 0,
 "worksheets": [
  {
   "cells": [
    {
     "cell_type": "code",
     "collapsed": false,
     "input": [
      "from pylab import *\n",
      "import psummary_chemocircuit as psum"
     ],
     "language": "python",
     "metadata": {},
     "outputs": [],
     "prompt_number": 1
    },
    {
     "cell_type": "code",
     "collapsed": false,
     "input": [
      "groups = {\n",
      "    'AVA_AVB_l1':[26,27,28,29,30,31,32,33,34,35,37,38,39,40,41,42,43,44,45,46,47,48,49,50,51,52,53,54,55,56,57,58,59],\n",
      "    'AVB_AVA_l1':[60,61,62,63,64,65,66,68,69,70,71,72,73,74,75],\n",
      "    'AVB_AVA_ttx':[96,97,98,99,100,103,104,105,106,107],\n",
      "    'AVB_AVA':[60,61,62,63,64,65,66,68,69,70,71,72,73,74,75,96,97,98,99,100,103,104,105,106,107],\n",
      "    'ASH_AVB_l1':[88,89,90,92,93,94,95]\n",
      "}"
     ],
     "language": "python",
     "metadata": {},
     "outputs": [],
     "prompt_number": 2
    },
    {
     "cell_type": "code",
     "collapsed": false,
     "input": [
      "reload(psum)"
     ],
     "language": "python",
     "metadata": {},
     "outputs": [
      {
       "output_type": "pyout",
       "prompt_number": 4,
       "text": [
        "<module 'psummary_chemocircuit' from 'psummary_chemocircuit.py'>"
       ]
      }
     ],
     "prompt_number": 4
    },
    {
     "cell_type": "code",
     "collapsed": false,
     "input": [
      "datatable = list()\n",
      "row = list()\n",
      "groupnames = groups.keys()\n",
      "for group_name in ['AVA_AVB_l1','AVB_AVA_l1','AVB_AVA_ttx','ASH_AVB_l1']:\n",
      "    for cennum in groups[group_name]:\n",
      "        row = list(psum.comp_syn_to_zero(cennum))\n",
      "        row.append(row[0]-row[1])\n",
      "        row.insert(0,group_name)\n",
      "        row.insert(0,cennum)\n",
      "        row.append(row[-2] < 0.05)\n",
      "        datatable.append(row)"
     ],
     "language": "python",
     "metadata": {},
     "outputs": [],
     "prompt_number": 137
    },
    {
     "cell_type": "code",
     "collapsed": false,
     "input": [
      "def get_group(datatable,group,idx):\n",
      "    scalars = [r[idx] for r in datatable if (r[-1] and (r[1] == group))]\n",
      "    return scalars"
     ],
     "language": "python",
     "metadata": {},
     "outputs": [],
     "prompt_number": 138
    },
    {
     "cell_type": "code",
     "collapsed": false,
     "input": [
      "from scipy import stats"
     ],
     "language": "python",
     "metadata": {},
     "outputs": [],
     "prompt_number": 139
    },
    {
     "cell_type": "code",
     "collapsed": false,
     "input": [
      "#### t-test ########\n",
      "print('t test: mean difference, p-value, n')\n",
      "AVA_AVB_l1 = get_group(datatable,'AVA_AVB_l1',5)\n",
      "AVB_AVA_l1 = get_group(datatable,'AVB_AVA_l1',5)\n",
      "AVB_AVA_ttx = get_group(datatable,'AVB_AVA_ttx',5)\n",
      "ASH_AVB_l1 = get_group(datatable,'ASH_AVB_l1',5)\n",
      "\n",
      "print('AVA_AVB_l1 mean:%s pval:%s n=%s'%(mean(AVA_AVB_l1),stats.ttest_1samp(AVA_AVB_l1,0)[1], len(AVA_AVB_l1)))\n",
      "print('AVB_AVA_l1 mean:%s pval:%s n=%s'%(mean(AVB_AVA_l1),stats.ttest_1samp(AVB_AVA_l1,0)[1], len(AVB_AVA_l1)))\n",
      "print('AVB_AVA_ttx mean:%s pval:%s n=%s'%(mean(AVB_AVA_ttx),stats.ttest_1samp(AVB_AVA_ttx,0)[1], len(AVB_AVA_ttx)))\n",
      "print('ASH_AVB_l1 mean:%s pval:%s n=%s'%(mean(ASH_AVB_l1),stats.ttest_1samp(ASH_AVB_l1,0)[1], len(ASH_AVB_l1)))\n",
      "\n",
      "print('\\nVo')\n",
      "#### Vo ###########\n",
      "AVA_AVB_l1 = get_group(datatable,'AVA_AVB_l1',2)\n",
      "AVB_AVA_l1 = get_group(datatable,'AVB_AVA_l1',2)\n",
      "AVB_AVA_ttx = get_group(datatable,'AVB_AVA_ttx',2)\n",
      "ASH_AVB_l1 = get_group(datatable,'ASH_AVB_l1',2)\n",
      "\n",
      "print('AVA_AVB_l1 mean:%s sem:%s'%(mean(AVA_AVB_l1), stats.sem(AVA_AVB_l1)))\n",
      "print('AVB_AVA_l1 mean:%s sem:%s'%(mean(AVB_AVA_l1), stats.sem(AVB_AVA_l1)))\n",
      "print('AVB_AVA_ttx mean:%s sem:%s'%(mean(AVB_AVA_ttx), stats.sem(AVB_AVA_ttx)))\n",
      "print('ASH_AVB_l1 mean:%s sem:%s'%(mean(ASH_AVB_l1), stats.sem(ASH_AVB_l1)))\n",
      "\n",
      "print('\\nVrev')\n",
      "#### Vrev ###########\n",
      "AVA_AVB_l1 = get_group(datatable,'AVA_AVB_l1',3)\n",
      "AVB_AVA_l1 = get_group(datatable,'AVB_AVA_l1',3)\n",
      "AVB_AVA_ttx = get_group(datatable,'AVB_AVA_ttx',3)\n",
      "ASH_AVB_l1 = get_group(datatable,'ASH_AVB_l1',3)\n",
      "\n",
      "print('AVA_AVB_l1 mean:%s sem:%s'%(mean(AVA_AVB_l1), stats.sem(AVA_AVB_l1)))\n",
      "print('AVB_AVA_l1 mean:%s sem:%s'%(mean(AVB_AVA_l1), stats.sem(AVB_AVA_l1)))\n",
      "print('AVB_AVA_ttx mean:%s sem:%s'%(mean(AVB_AVA_ttx), stats.sem(AVB_AVA_ttx)))\n",
      "print('ASH_AVB_l1 mean:%s sem:%s'%(mean(ASH_AVB_l1), stats.sem(ASH_AVB_l1)))"
     ],
     "language": "python",
     "metadata": {},
     "outputs": [
      {
       "output_type": "stream",
       "stream": "stdout",
       "text": [
        "t test: mean difference, p-value, n\n",
        "AVA_AVB_l1 mean:20.2904740898 pval:0.0196221477154 n=9\n",
        "AVB_AVA_l1 mean:29.9272727643 pval:0.000415394972109 n=8\n",
        "AVB_AVA_ttx mean:28.4675533611 pval:0.000275413437229 n=6\n",
        "ASH_AVB_l1 mean:44.1146585444 pval:0.00351313665042 n=4\n",
        "\n",
        "Vo\n",
        "AVA_AVB_l1 mean:-35.2132268152 sem:3.82770028964\n",
        "AVB_AVA_l1 mean:-32.9585188416 sem:2.95603325216\n",
        "AVB_AVA_ttx mean:-39.7961493837 sem:2.95010842832\n",
        "ASH_AVB_l1 mean:-28.7606835215 sem:2.36388465804\n",
        "\n",
        "Vrev\n",
        "AVA_AVB_l1 mean:-55.503700905 sem:5.6869425226\n",
        "AVB_AVA_l1 mean:-62.8857916059 sem:3.34271818013\n",
        "AVB_AVA_ttx mean:-68.2637027448 sem:1.40653376257\n",
        "ASH_AVB_l1 mean:-72.8753420659 sem:3.50731163658\n"
       ]
      }
     ],
     "prompt_number": 142
    },
    {
     "cell_type": "code",
     "collapsed": false,
     "input": [],
     "language": "python",
     "metadata": {},
     "outputs": [],
     "prompt_number": 140
    },
    {
     "cell_type": "code",
     "collapsed": false,
     "input": [
      "#(zer_cur_pot,rpot_syn,p_value)\n",
      "import csv\n",
      "f = open('datatable.csv','wt')\n",
      "wr = csv.writer(f)\n",
      "wr.writerow(['cell_number','group','Vo','Vrev','Gs_pval','Vo-Vrev','included'])\n",
      "for row in datatable:\n",
      "    wr.writerow(row)\n",
      "f.close()"
     ],
     "language": "python",
     "metadata": {},
     "outputs": [],
     "prompt_number": 141
    },
    {
     "cell_type": "code",
     "collapsed": false,
     "input": [
      "def hide_spines():\n",
      "    \"\"\"Hides the top and rightmost axis spines from view for all active\n",
      "        figures and their respective axes.\"\"\"\n",
      "    \n",
      "    # Retrieve a list of all current figures.\n",
      "    figures = [x for x in matplotlib._pylab_helpers.Gcf.get_all_fig_managers()]\n",
      "    for figure in figures:\n",
      "        # Get all Axis instances related to the figure.\n",
      "        for ax in figure.canvas.figure.get_axes():\n",
      "            # Disable spines.\n",
      "            ax.spines['right'].set_color('none')\n",
      "            ax.spines['top'].set_color('none')\n",
      "            # Disable ticks.\n",
      "            ax.xaxis.set_ticks_position('bottom')\n",
      "            ax.yaxis.set_ticks_position('left')\n",
      "\n",
      "def rpot_conductance(key):\n",
      "    \"\"\"plot a summary of the reversal potential data as calculated from the ohmic fits\"\"\"\n",
      "    groups = {\n",
      "    'AVA_AVB_l1':[26,27,28,29,30,31,32,33,34,35,37,38,39,40,41,42,43,44,45,46,47,48,49,50,51,52,53,54,55,56,57,58,59],\n",
      "    'AVB_AVA_l1':[60,61,62,63,64,65,66,68,69,70,71,72,73,74,75],\n",
      "    'AVB_AVA_ttx':[96,97,98,99,100,103,104,105,106,107],\n",
      "    'AVB_AVA':[60,61,62,63,64,65,66,68,69,70,71,72,73,74,75,96,97,98,99,100,103,104,105,106,107],\n",
      "    'ASH_AVB_l1':[88,89,90,92,93,94,95]\n",
      "    }\n",
      "    fi = open('conductance_ohmic_fits.txt','r')\n",
      "    lns = fi.readlines()\n",
      "    calcdict = dict()\n",
      "\n",
      "    for l in lns:\n",
      "        data = [float(x) for x in l.split()]\n",
      "        calcdict.update({int(data[0]):{'rpot':data[1],'cond':data[2],'std_err':data[3],'p_val':data[4]}})\n",
      "    fig = figure()\n",
      "    group = groups[key]\n",
      "    xs = [calcdict[cennum]['rpot'] for cennum in group]\n",
      "    ys = [calcdict[cennum]['cond'] for cennum in group]\n",
      "    yerr = [calcdict[cennum]['std_err'] for cennum in group]\n",
      "    errorbar(xs,ys,yerr=yerr,marker='o',ls='None',color = 'k')\n",
      "    ax = gca()\n",
      "    psum.format_iv(ax)\n",
      "    return calcdict\n"
     ],
     "language": "python",
     "metadata": {},
     "outputs": [],
     "prompt_number": 2
    },
    {
     "cell_type": "code",
     "collapsed": false,
     "input": [
      "calcdict = rpot_conductance('AVA_AVB_l1')\n",
      "ax = gca()\n",
      "ax.set_xbound([-100,100])\n",
      "\n",
      "glist = []\n",
      "rplist = []\n",
      "lblist = []\n",
      "pvlist = []\n",
      "cenlist = []\n",
      "for key in groups.keys():\n",
      "    group = groups[key]\n",
      "    xs = array([calcdict[cennum]['rpot'] for cennum in group])\n",
      "    ys = array([calcdict[cennum]['cond'] for cennum in group])\n",
      "    pv = array([calcdict[cennum]['p_val'] for cennum in group])\n",
      "    lbs = [key for cennum in group]\n",
      "    cens = [cennum for cennum in group]\n",
      "    yerr = [calcdict[cennum]['std_err'] for cennum in group]\n",
      "    glist.append(ys)\n",
      "    rplist.append(xs)\n",
      "    lblist.append(lbs)\n",
      "    pvlist.append(pv)\n",
      "    cenlist.append(cens)\n",
      "    from scipy import stats\n",
      "    print key + ' \\tp:%s'%(stats.wilcoxon(xs)[1]) + '\\tn=%s'%(len(xs))\n",
      "\n",
      "fig = figure(figsize = (15,7))\n",
      "boxplot(glist)\n",
      "ax = fig.axes[0]\n",
      "ax.set_xticklabels(groups.keys())\n",
      "for x in range(len(glist)):\n",
      "    plot(ones(len(glist[x]))*(x+1),\n",
      "         glist[x],'o', \n",
      "         markersize = 4,\n",
      "         markerfacecolor = (0,0,0,1.0), \n",
      "         markeredgecolor = 'k',\n",
      "         alpha = 0.5)\n",
      "    print len(glist[x])\n",
      "hide_spines()\n",
      "#glist = array(glist)\n",
      "#rplist = array(rplist)"
     ],
     "language": "python",
     "metadata": {},
     "outputs": [
      {
       "output_type": "stream",
       "stream": "stdout",
       "text": [
        "AVB_AVA \tp:1.22903222102e-05\tn=25\n",
        "AVA_AVB_l1 \tp:2.28939658478e-06\tn=33\n",
        "AVB_AVA_ttx \tp:0.00506203212627\tn=10\n",
        "AVB_AVA_l1 \tp:0.000654958343386\tn=15\n",
        "ASH_AVB_l1 \tp:0.176296374441\tn=7\n",
        "25"
       ]
      },
      {
       "output_type": "stream",
       "stream": "stdout",
       "text": [
        "\n",
        "33\n",
        "10\n",
        "15\n",
        "7\n"
       ]
      }
     ],
     "prompt_number": 5
    },
    {
     "cell_type": "code",
     "collapsed": false,
     "input": [
      "for rp,g,lbl,p_val in zip(rplist,glist,lblist,pvlist):\n",
      "    idx = argwhere(p_val<0.05)\n",
      "    pv = stats.ttest_1samp(rp[idx],0)[1]\n",
      "    me = mean(rp[idx])\n",
      "    st_dev = std(rp[idx])\n",
      "    print \"%s,\\t%s,\\t%s,\\t%s,\\t%s\"%(lbl[0],pv[0],me,st_dev,len(idx))"
     ],
     "language": "python",
     "metadata": {},
     "outputs": [
      {
       "output_type": "stream",
       "stream": "stdout",
       "text": [
        "AVB_AVA,\t5.6602101137e-10,\t-58.3708681479,\t16.2639223551,\t16\n",
        "AVA_AVB_l1,\t0.00018391088251,\t-48.6711705655,\t29.3053415205,\t12\n",
        "AVB_AVA_ttx,\t9.58549952045e-08,\t-67.4885723899,\t3.30997421151,\t6\n",
        "AVB_AVA_l1,\t1.18302343603e-05,\t-52.9002456027,\t18.3532963144,\t10\n",
        "ASH_AVB_l1,\t0.000393254779462,\t-73.8219679773,\t7.22443001902,\t4\n"
       ]
      }
     ],
     "prompt_number": 19
    },
    {
     "cell_type": "code",
     "collapsed": false,
     "input": [
      "[rp[argwhere(g[3]>0)] for rp,g in zip(rplist,glist)]"
     ],
     "language": "python",
     "metadata": {},
     "outputs": [
      {
       "output_type": "pyout",
       "prompt_number": 50,
       "text": [
        "[array([], shape=(0, 1), dtype=float64),\n",
        " array([], shape=(0, 1), dtype=float64),\n",
        " array([[-132.17603768]]),\n",
        " array([], shape=(0, 1), dtype=float64),\n",
        " array([[-83.65359251]])]"
       ]
      }
     ],
     "prompt_number": 50
    },
    {
     "cell_type": "code",
     "collapsed": false,
     "input": [
      "rplist[4]"
     ],
     "language": "python",
     "metadata": {},
     "outputs": [
      {
       "output_type": "pyout",
       "prompt_number": 22,
       "text": [
        "[-83.6535925115,\n",
        " -38.548671311,\n",
        " -249.996128856,\n",
        " -63.2714421849,\n",
        " 157.73613531,\n",
        " -73.6633880032,\n",
        " -74.6994492097]"
       ]
      }
     ],
     "prompt_number": 22
    },
    {
     "cell_type": "code",
     "collapsed": false,
     "input": [
      "len(groups.keys())"
     ],
     "language": "python",
     "metadata": {},
     "outputs": [
      {
       "output_type": "pyout",
       "prompt_number": 16,
       "text": [
        "5"
       ]
      }
     ],
     "prompt_number": 16
    },
    {
     "cell_type": "code",
     "collapsed": false,
     "input": [
      "#f = open('forshawn','wt')\n",
      "tbl = vstack([hstack(x) for x in [cenlist,lblist,glist,rplist]]).T\n",
      "savetxt('rp_g_ohmic.txt',tbl,fmt='%s',header = 'CENNUM GROUP CONDUCTANCE(pS) RP(mV)')"
     ],
     "language": "python",
     "metadata": {},
     "outputs": [],
     "prompt_number": 50
    },
    {
     "cell_type": "code",
     "collapsed": false,
     "input": [],
     "language": "python",
     "metadata": {},
     "outputs": []
    }
   ],
   "metadata": {}
  }
 ]
}